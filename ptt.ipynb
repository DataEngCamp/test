{
 "cells": [
  {
   "cell_type": "markdown",
   "metadata": {
    "id": "BbBRGaBvOKU3"
   },
   "source": [
    "# PTT [科技工作版] 文章爬蟲"
   ]
  },
  {
   "cell_type": "markdown",
   "metadata": {
    "id": "dT_f-4Ag4FA0"
   },
   "source": [
    "[PTT 科技工作版](https://www.ptt.cc/bbs/Tech_Job/index.html)"
   ]
  },
  {
   "cell_type": "markdown",
   "metadata": {
    "id": "FAwKQSwXpnLg"
   },
   "source": [
    "## 發送請求、解析回應"
   ]
  },
  {
   "cell_type": "code",
   "execution_count": null,
   "metadata": {
    "id": "QmDH4sEP1etC"
   },
   "outputs": [],
   "source": [
    "import requests # 安裝“發送請求”套件\n",
    "from bs4 import BeautifulSoup # 安裝“解析HTML”套件"
   ]
  },
  {
   "cell_type": "code",
   "execution_count": null,
   "metadata": {
    "id": "ao-6W3B6BjkN"
   },
   "outputs": [],
   "source": [
    "# 目標頁面\n",
    "url = 'https://www.ptt.cc/bbs/Tech_Job/index.html'"
   ]
  },
  {
   "cell_type": "code",
   "execution_count": null,
   "metadata": {
    "id": "TZfyamI6BkKq"
   },
   "outputs": [],
   "source": [
    "# 發送 GET 請求，指定 url 與 headers，將回應結果存在變數\n",
    "response = requests.get(url)"
   ]
  },
  {
   "cell_type": "code",
   "execution_count": null,
   "metadata": {
    "colab": {
     "base_uri": "https://localhost:8080/"
    },
    "executionInfo": {
     "elapsed": 5,
     "status": "ok",
     "timestamp": 1628740826608,
     "user": {
      "displayName": "Enzo Chang",
      "photoUrl": "https://lh3.googleusercontent.com/a-/AOh14GhPWplJjIOJFXGA8k4AHibIt_707Fz3iBP5txKK=s64",
      "userId": "02029406119491648364"
     },
     "user_tz": -480
    },
    "id": "7zikB9Z5BkM7",
    "outputId": "3d494225-74a8-4d53-eb92-eb130d407bab"
   },
   "outputs": [],
   "source": [
    "# 查看回應狀態代碼，200 代表成功\n",
    "response.status_code"
   ]
  },
  {
   "cell_type": "code",
   "execution_count": null,
   "metadata": {
    "colab": {
     "base_uri": "https://localhost:8080/",
     "height": 120
    },
    "executionInfo": {
     "elapsed": 307,
     "status": "ok",
     "timestamp": 1628742856624,
     "user": {
      "displayName": "Enzo Chang",
      "photoUrl": "https://lh3.googleusercontent.com/a-/AOh14GhPWplJjIOJFXGA8k4AHibIt_707Fz3iBP5txKK=s64",
      "userId": "02029406119491648364"
     },
     "user_tz": -480
    },
    "id": "_Yjr6yx7bsUJ",
    "outputId": "5c1f3919-107b-4ab5-8bdd-45ea060dbaae"
   },
   "outputs": [],
   "source": [
    "# 查看回應內容\n",
    "print(response.text)"
   ]
  },
  {
   "cell_type": "code",
   "execution_count": null,
   "metadata": {
    "id": "-1Sf3S89BkPR"
   },
   "outputs": [],
   "source": [
    "# 將回應的內容文字放在 BeautifulSoup 進行解析，存在 soup 變數中\n",
    "soup = BeautifulSoup(response.text, \"html.parser\")\n",
    "soup"
   ]
  },
  {
   "cell_type": "code",
   "execution_count": null,
   "metadata": {
    "id": "xbUCZzTZeZ55"
   },
   "outputs": [],
   "source": [
    "print(soup.prettify())  # 輸出排版美化後的 HTML 內容"
   ]
  },
  {
   "cell_type": "markdown",
   "metadata": {
    "id": "H2N3IB1ZjK2D"
   },
   "source": [
    "## 擷取單一文章"
   ]
  },
  {
   "cell_type": "markdown",
   "metadata": {
    "id": "4mV-J-_fflAI"
   },
   "source": [
    "### 找尋特定元件 find()\n",
    "- 回傳最近的一個子元件（往下找，平行或上層的不包含）\n",
    "- 可指定符合某屬性及屬性值  find(元件, {屬性: 屬性值})\n",
    "- 若找不到則回傳 None\n",
    "- select_one() 是另一種方法，跟 find() 效果相同，使用語法不同"
   ]
  },
  {
   "cell_type": "code",
   "execution_count": null,
   "metadata": {
    "colab": {
     "base_uri": "https://localhost:8080/"
    },
    "executionInfo": {
     "elapsed": 432,
     "status": "ok",
     "timestamp": 1628740841540,
     "user": {
      "displayName": "Enzo Chang",
      "photoUrl": "https://lh3.googleusercontent.com/a-/AOh14GhPWplJjIOJFXGA8k4AHibIt_707Fz3iBP5txKK=s64",
      "userId": "02029406119491648364"
     },
     "user_tz": -480
    },
    "id": "bCVnlzfdF0Y_",
    "outputId": "6207db60-9ffe-4f09-9585-6c230e060631"
   },
   "outputs": [],
   "source": [
    "soup.find(\"div\",{\"class\": \"r-ent\"})"
   ]
  },
  {
   "cell_type": "code",
   "execution_count": null,
   "metadata": {
    "colab": {
     "base_uri": "https://localhost:8080/"
    },
    "executionInfo": {
     "elapsed": 5,
     "status": "ok",
     "timestamp": 1628733660473,
     "user": {
      "displayName": "Enzo Chang",
      "photoUrl": "https://lh3.googleusercontent.com/a-/AOh14GhPWplJjIOJFXGA8k4AHibIt_707Fz3iBP5txKK=s64",
      "userId": "02029406119491648364"
     },
     "user_tz": -480
    },
    "id": "ZyWF2B9iBkT6",
    "outputId": "1fd9cdfe-ccbc-47ec-fd9e-18591ccd896b"
   },
   "outputs": [],
   "source": [
    "# 可連續使用多個方法（一層一層往下找）\n",
    "soup.find(\"div\",{\"class\": \"r-ent\"}).find(\"div\",{\"class\": \"title\"})"
   ]
  },
  {
   "cell_type": "markdown",
   "metadata": {
    "id": "ExZ2PtX2hqfd"
   },
   "source": [
    "### 取得內容文字 getText()"
   ]
  },
  {
   "cell_type": "code",
   "execution_count": null,
   "metadata": {
    "colab": {
     "base_uri": "https://localhost:8080/",
     "height": 35
    },
    "executionInfo": {
     "elapsed": 325,
     "status": "ok",
     "timestamp": 1628733661333,
     "user": {
      "displayName": "Enzo Chang",
      "photoUrl": "https://lh3.googleusercontent.com/a-/AOh14GhPWplJjIOJFXGA8k4AHibIt_707Fz3iBP5txKK=s64",
      "userId": "02029406119491648364"
     },
     "user_tz": -480
    },
    "id": "GBgrhJijBkV0",
    "outputId": "a2c02591-e7c9-4608-b452-9b79e0710b61"
   },
   "outputs": [],
   "source": [
    "#標題\n",
    "soup.find(\"div\",{\"class\": \"r-ent\"}).find(\"div\",{\"class\": \"title\"}).getText()"
   ]
  },
  {
   "cell_type": "code",
   "execution_count": null,
   "metadata": {
    "colab": {
     "base_uri": "https://localhost:8080/",
     "height": 35
    },
    "executionInfo": {
     "elapsed": 521,
     "status": "ok",
     "timestamp": 1628741308420,
     "user": {
      "displayName": "Enzo Chang",
      "photoUrl": "https://lh3.googleusercontent.com/a-/AOh14GhPWplJjIOJFXGA8k4AHibIt_707Fz3iBP5txKK=s64",
      "userId": "02029406119491648364"
     },
     "user_tz": -480
    },
    "id": "TEPpGeqji1LV",
    "outputId": "7bab4839-f0fa-4c15-bb91-d5c2c5fd3944"
   },
   "outputs": [],
   "source": [
    "# 去除標題前後的換行符號\n",
    "soup.find(\"div\",{\"class\": \"r-ent\"}).find(\"div\",{\"class\": \"title\"}).getText().strip('\\n')"
   ]
  },
  {
   "cell_type": "code",
   "execution_count": null,
   "metadata": {
    "colab": {
     "base_uri": "https://localhost:8080/"
    },
    "executionInfo": {
     "elapsed": 289,
     "status": "ok",
     "timestamp": 1628733734308,
     "user": {
      "displayName": "Enzo Chang",
      "photoUrl": "https://lh3.googleusercontent.com/a-/AOh14GhPWplJjIOJFXGA8k4AHibIt_707Fz3iBP5txKK=s64",
      "userId": "02029406119491648364"
     },
     "user_tz": -480
    },
    "id": "wFAMsCp5F6W0",
    "outputId": "e05ee3cf-06ee-43b6-bade-f4905a3dadf6"
   },
   "outputs": [],
   "source": [
    "#超連結\n",
    "soup.find(\"div\",{\"class\": \"r-ent\"}).find(\"div\",{\"class\": \"title\"}).find(\"a\")"
   ]
  },
  {
   "cell_type": "markdown",
   "metadata": {
    "id": "4_pUzEIJiC7U"
   },
   "source": [
    "### 取得指定屬性的屬性值 get()"
   ]
  },
  {
   "cell_type": "code",
   "execution_count": null,
   "metadata": {
    "colab": {
     "base_uri": "https://localhost:8080/",
     "height": 35
    },
    "executionInfo": {
     "elapsed": 292,
     "status": "ok",
     "timestamp": 1628733791983,
     "user": {
      "displayName": "Enzo Chang",
      "photoUrl": "https://lh3.googleusercontent.com/a-/AOh14GhPWplJjIOJFXGA8k4AHibIt_707Fz3iBP5txKK=s64",
      "userId": "02029406119491648364"
     },
     "user_tz": -480
    },
    "id": "E1t_xgWRGRB0",
    "outputId": "b91fba34-c58f-44cc-9768-ec7dab1a68fa"
   },
   "outputs": [],
   "source": [
    "#超連結\n",
    "soup.find(\"div\",{\"class\": \"r-ent\"}).find(\"div\",{\"class\": \"title\"}).find(\"a\").get(\"href\")"
   ]
  },
  {
   "cell_type": "code",
   "execution_count": null,
   "metadata": {
    "colab": {
     "base_uri": "https://localhost:8080/",
     "height": 35
    },
    "executionInfo": {
     "elapsed": 284,
     "status": "ok",
     "timestamp": 1628733924208,
     "user": {
      "displayName": "Enzo Chang",
      "photoUrl": "https://lh3.googleusercontent.com/a-/AOh14GhPWplJjIOJFXGA8k4AHibIt_707Fz3iBP5txKK=s64",
      "userId": "02029406119491648364"
     },
     "user_tz": -480
    },
    "id": "OQXsqSltGblL",
    "outputId": "c0354229-dd60-48e5-a06c-f2b5728fd9a8"
   },
   "outputs": [],
   "source": [
    "#發文者\n",
    "soup.find(\"div\",{\"class\": \"r-ent\"}).find(\"div\",{\"class\": \"author\"}).getText()"
   ]
  },
  {
   "cell_type": "code",
   "execution_count": null,
   "metadata": {
    "colab": {
     "base_uri": "https://localhost:8080/",
     "height": 35
    },
    "executionInfo": {
     "elapsed": 294,
     "status": "ok",
     "timestamp": 1628733943809,
     "user": {
      "displayName": "Enzo Chang",
      "photoUrl": "https://lh3.googleusercontent.com/a-/AOh14GhPWplJjIOJFXGA8k4AHibIt_707Fz3iBP5txKK=s64",
      "userId": "02029406119491648364"
     },
     "user_tz": -480
    },
    "id": "c190TsfWG30O",
    "outputId": "817fb3a8-0186-443e-a148-7bf338f58c23"
   },
   "outputs": [],
   "source": [
    "#發文日期\n",
    "soup.find(\"div\",{\"class\": \"r-ent\"}).find(\"div\",{\"class\": \"date\"}).getText()"
   ]
  },
  {
   "cell_type": "code",
   "execution_count": null,
   "metadata": {
    "colab": {
     "base_uri": "https://localhost:8080/",
     "height": 35
    },
    "executionInfo": {
     "elapsed": 261,
     "status": "ok",
     "timestamp": 1628733997551,
     "user": {
      "displayName": "Enzo Chang",
      "photoUrl": "https://lh3.googleusercontent.com/a-/AOh14GhPWplJjIOJFXGA8k4AHibIt_707Fz3iBP5txKK=s64",
      "userId": "02029406119491648364"
     },
     "user_tz": -480
    },
    "id": "ZyA1cINSHFtS",
    "outputId": "0ae2e8e7-494f-44eb-b78d-720727446e7d"
   },
   "outputs": [],
   "source": [
    "#推文數\n",
    "soup.find(\"div\",{\"class\": \"r-ent\"}).find(\"div\",{\"class\": \"nrec\"}).getText()"
   ]
  },
  {
   "cell_type": "code",
   "execution_count": null,
   "metadata": {
    "colab": {
     "base_uri": "https://localhost:8080/"
    },
    "executionInfo": {
     "elapsed": 282,
     "status": "ok",
     "timestamp": 1628741326547,
     "user": {
      "displayName": "Enzo Chang",
      "photoUrl": "https://lh3.googleusercontent.com/a-/AOh14GhPWplJjIOJFXGA8k4AHibIt_707Fz3iBP5txKK=s64",
      "userId": "02029406119491648364"
     },
     "user_tz": -480
    },
    "id": "6I14kpMeH09d",
    "outputId": "e4c81447-78b2-46f6-8e4e-5a8cd067c8a6"
   },
   "outputs": [],
   "source": [
    "# 將重複的部分宣告為變數（免得每次都要打一長串）\n",
    "article = soup.find(\"div\",{\"class\": \"r-ent\"})\n",
    "\n",
    "# 打印出這篇文章的標題、連結、發文者、日期、推文數\n",
    "print(article.find(\"div\",{\"class\": \"title\"}).getText())\n",
    "print(article.find(\"div\",{\"class\": \"title\"}).find(\"a\").get(\"href\"))\n",
    "print(article.find(\"div\",{\"class\": \"author\"}).getText())\n",
    "print(article.find(\"div\",{\"class\": \"date\"}).getText())\n",
    "print(article.find(\"div\",{\"class\": \"nrec\"}).getText())"
   ]
  },
  {
   "cell_type": "markdown",
   "metadata": {
    "id": "C1CqDEn8IDRq"
   },
   "source": [
    "## 擷取文章列表"
   ]
  },
  {
   "cell_type": "markdown",
   "metadata": {
    "id": "bcr8Af4QjeM_"
   },
   "source": [
    "### 找尋全部的特定元件 find_all()\n",
    "- 回傳所有符合的子元件列表（資料型態為 List）\n",
    "- 可指定符合某屬性及屬性值  find(元件, {屬性: 屬性值})\n",
    "- 若找不到則回傳 None\n",
    "- select() 是另一種方法，跟 find_all() 效果相同，使用語法不同"
   ]
  },
  {
   "cell_type": "code",
   "execution_count": null,
   "metadata": {
    "id": "u7x1jQcrHQK0"
   },
   "outputs": [],
   "source": [
    "soup.find_all(\"div\",{\"class\": \"r-ent\"})"
   ]
  },
  {
   "cell_type": "code",
   "execution_count": null,
   "metadata": {
    "colab": {
     "base_uri": "https://localhost:8080/"
    },
    "executionInfo": {
     "elapsed": 375,
     "status": "ok",
     "timestamp": 1628741971381,
     "user": {
      "displayName": "Enzo Chang",
      "photoUrl": "https://lh3.googleusercontent.com/a-/AOh14GhPWplJjIOJFXGA8k4AHibIt_707Fz3iBP5txKK=s64",
      "userId": "02029406119491648364"
     },
     "user_tz": -480
    },
    "id": "rzQKHhORlatC",
    "outputId": "bc807d37-eeab-405d-e945-6aaccb0ba645"
   },
   "outputs": [],
   "source": [
    "# 查看其中一筆資料(一篇文章)\n",
    "soup.find_all(\"div\",{\"class\": \"r-ent\"})[0]"
   ]
  },
  {
   "cell_type": "code",
   "execution_count": null,
   "metadata": {
    "colab": {
     "base_uri": "https://localhost:8080/"
    },
    "executionInfo": {
     "elapsed": 267,
     "status": "ok",
     "timestamp": 1628741931479,
     "user": {
      "displayName": "Enzo Chang",
      "photoUrl": "https://lh3.googleusercontent.com/a-/AOh14GhPWplJjIOJFXGA8k4AHibIt_707Fz3iBP5txKK=s64",
      "userId": "02029406119491648364"
     },
     "user_tz": -480
    },
    "id": "lpoM1sNBHdJ6",
    "outputId": "4094248e-0f87-4500-a0b7-f019d943a551"
   },
   "outputs": [],
   "source": [
    "# 檢查元件列表長度（代表找到的數量）\n",
    "len(soup.find_all(\"div\",{\"class\": \"r-ent\"}))"
   ]
  },
  {
   "cell_type": "code",
   "execution_count": null,
   "metadata": {
    "id": "0waGgIPGIa8R"
   },
   "outputs": [],
   "source": [
    "# 存在一個變數\n",
    "all_article = soup.find_all(\"div\",{\"class\": \"r-ent\"})"
   ]
  },
  {
   "cell_type": "markdown",
   "metadata": {
    "id": "yChhDi97mQci"
   },
   "source": [
    "### 使用迴圈走訪所有元件"
   ]
  },
  {
   "cell_type": "code",
   "execution_count": null,
   "metadata": {
    "id": "pP3cYccOHwbZ"
   },
   "outputs": [],
   "source": [
    "# 使用 for 迴圈走訪文章列表（List）\n",
    "for article in all_article:\n",
    "    if article.find(\"div\",{\"class\": \"title\"}).find(\"a\") is not None:\n",
    "        # 打印出每一篇文章的標題、連結、發文者、日期、推文數\n",
    "        print(article.find(\"div\",{\"class\": \"title\"}).getText()) # 去除標題前後的換行符號\n",
    "        print(article.find(\"div\",{\"class\": \"title\"}).find(\"a\").get(\"href\"))\n",
    "        print(article.find(\"div\",{\"class\": \"author\"}).getText())\n",
    "        print(article.find(\"div\",{\"class\": \"date\"}).getText())\n",
    "        print(article.find(\"div\",{\"class\": \"nrec\"}).getText())"
   ]
  },
  {
   "cell_type": "code",
   "execution_count": null,
   "metadata": {
    "colab": {
     "base_uri": "https://localhost:8080/"
    },
    "executionInfo": {
     "elapsed": 290,
     "status": "ok",
     "timestamp": 1628750364489,
     "user": {
      "displayName": "Enzo Chang",
      "photoUrl": "https://lh3.googleusercontent.com/a-/AOh14GhPWplJjIOJFXGA8k4AHibIt_707Fz3iBP5txKK=s64",
      "userId": "02029406119491648364"
     },
     "user_tz": -480
    },
    "id": "J_1II_J3Jz6L",
    "outputId": "7d8c5578-0f98-4963-9238-6e2302ed04ea"
   },
   "outputs": [],
   "source": [
    "# 將取得到的資料存在變數裡\n",
    "for article in all_article:\n",
    "    if article.find(\"div\",{\"class\": \"title\"}).find(\"a\") is not None:\n",
    "        # 將每篇文章的標題、連結、發文者、日期、推文數存入變數\n",
    "        title = article.find(\"div\",{\"class\": \"title\"}).getText().strip('\\n')\n",
    "        link = article.find(\"div\",{\"class\": \"title\"}).find(\"a\").get(\"href\") # 組合成完整的連結\n",
    "        author = article.find(\"div\",{\"class\": \"author\"}).getText()\n",
    "        date = article.find(\"div\",{\"class\": \"date\"}).getText()\n",
    "        rec_num = article.find(\"div\",{\"class\": \"nrec\"}).getText()\n",
    "\n",
    "        print(title, link, author, date, rec_num)"
   ]
  },
  {
   "cell_type": "markdown",
   "metadata": {
    "id": "KSDTlvNzpXdV"
   },
   "source": [
    "## 資料整理＆輸出"
   ]
  },
  {
   "cell_type": "markdown",
   "metadata": {
    "id": "J6jmnbIemeVS"
   },
   "source": [
    "### 將資料存成字典列表(List of Dictionary)\n",
    "方便後續輸出成資料表(Excel Table)"
   ]
  },
  {
   "cell_type": "code",
   "execution_count": null,
   "metadata": {
    "colab": {
     "base_uri": "https://localhost:8080/"
    },
    "executionInfo": {
     "elapsed": 293,
     "status": "ok",
     "timestamp": 1628742565267,
     "user": {
      "displayName": "Enzo Chang",
      "photoUrl": "https://lh3.googleusercontent.com/a-/AOh14GhPWplJjIOJFXGA8k4AHibIt_707Fz3iBP5txKK=s64",
      "userId": "02029406119491648364"
     },
     "user_tz": -480
    },
    "id": "W7n_R43hLdNg",
    "outputId": "dc372405-bfc4-4ded-8f8c-9703dbdef2e6"
   },
   "outputs": [],
   "source": [
    "# 宣告一個空的文章列表(List)，用來存放文章資料（Dictionary）\n",
    "article_list = []\n",
    "for article in all_article:\n",
    "    if article.find(\"div\",{\"class\": \"title\"}).find(\"a\") is not None:\n",
    "        title = article.find(\"div\",{\"class\": \"title\"}).getText().strip('\\n')\n",
    "        link = article.find(\"div\",{\"class\": \"title\"}).find(\"a\").get(\"href\")\n",
    "        link = \"https://www.ptt.cc/bbs/Tech_Job\" + article.find(\"div\",{\"class\": \"title\"}).find(\"a\").get(\"href\")\n",
    "        author = article.find(\"div\",{\"class\": \"author\"}).getText()\n",
    "        date = article.find(\"div\",{\"class\": \"date\"}).getText()\n",
    "        rec_num = article.find(\"div\",{\"class\": \"nrec\"}).getText()\n",
    "\n",
    "        # 宣告字典，欄位名稱(key)自訂，欄位值(value)等於變數\n",
    "        article_dict = {\n",
    "            \"看板\": \"Tech_Job\",    #預設固定欄位值\n",
    "            \"標題\": title,\n",
    "            \"連結\": link,\n",
    "            \"作者\": author,\n",
    "            \"日期\": date,\n",
    "            \"推文數\": rec_num\n",
    "        }\n",
    "        # 打印出字典\n",
    "        print(article_dict)\n",
    "        # 將字典新增到列表當中\n",
    "        article_list.append(article_dict)"
   ]
  },
  {
   "cell_type": "code",
   "execution_count": null,
   "metadata": {
    "colab": {
     "base_uri": "https://localhost:8080/"
    },
    "executionInfo": {
     "elapsed": 4,
     "status": "ok",
     "timestamp": 1628735430205,
     "user": {
      "displayName": "Enzo Chang",
      "photoUrl": "https://lh3.googleusercontent.com/a-/AOh14GhPWplJjIOJFXGA8k4AHibIt_707Fz3iBP5txKK=s64",
      "userId": "02029406119491648364"
     },
     "user_tz": -480
    },
    "id": "oSL_yDAnMGNX",
    "outputId": "ecebcb58-0a8d-4f67-9063-7f978cf33d82"
   },
   "outputs": [],
   "source": [
    "# 查看文章列表(List of Dictionary)\n",
    "article_list"
   ]
  },
  {
   "cell_type": "markdown",
   "metadata": {
    "id": "Qqkroghurpy6"
   },
   "source": [
    "### 將資料存成實體檔案"
   ]
  },
  {
   "cell_type": "code",
   "execution_count": null,
   "metadata": {
    "id": "pSmMC1-Bp-dk"
   },
   "outputs": [],
   "source": [
    "import pandas as pd # 安裝“資料處理”套件，使用縮寫\n",
    "\n",
    "# 將字典列表存為 DataFrame\n",
    "article_df = pd.DataFrame(article_list)\n",
    "# 輸出為 csv 格式檔案\n",
    "article_df.to_csv(\"PTT_Tech_Job.csv\")"
   ]
  },
  {
   "cell_type": "markdown",
   "metadata": {
    "id": "chzcCmpzsWTz"
   },
   "source": [
    "## 進階：模組化\n",
    "寫成自訂函式 Function"
   ]
  },
  {
   "cell_type": "code",
   "execution_count": null,
   "metadata": {
    "id": "v3tI36P_-sP-"
   },
   "outputs": [],
   "source": [
    "# 定義一個 Function\n",
    "def ptt_crawler():\n",
    "\n",
    "    # 目標頁面\n",
    "    url = 'https://www.ptt.cc/bbs/Tech_Job/index.html'\n",
    "\n",
    "    # 發送 GET 請求，指定 url，將回應結果存在變數\n",
    "    response = requests.get(url)\n",
    "\n",
    "    # 將回應的內容文字放在 BeautifulSoup 進行解析，存在 soup 變數中\n",
    "    soup = BeautifulSoup(response.text, \"html.parser\")\n",
    "\n",
    "    # 存在一個變數\n",
    "    all_article = soup.find_all(\"div\",{\"class\": \"r-ent\"})\n",
    "\n",
    "    # 宣告一個空的文章列表(List)，用來存放文章資料（Dictionary）\n",
    "    article_list = []\n",
    "    for article in all_article:\n",
    "        if article.find(\"div\",{\"class\": \"title\"}).find(\"a\") is not None:\n",
    "            title = article.find(\"div\",{\"class\": \"title\"}).getText().strip('\\n')\n",
    "            link = article.find(\"div\",{\"class\": \"title\"}).find(\"a\").get(\"href\")\n",
    "            link = \"https://www.ptt.cc/bbs/Tech_Job\" + article.find(\"div\",{\"class\": \"title\"}).find(\"a\").get(\"href\")\n",
    "            author = article.find(\"div\",{\"class\": \"author\"}).getText()\n",
    "            date = article.find(\"div\",{\"class\": \"date\"}).getText()\n",
    "            rec_num = article.find(\"div\",{\"class\": \"nrec\"}).getText()\n",
    "\n",
    "            # 宣告字典，欄位名稱(key)自訂，欄位值(value)等於變數\n",
    "            article_dict = {\n",
    "                \"看板\": \"Tech_Job\",    #預設固定欄位值\n",
    "                \"標題\": title,\n",
    "                \"連結\": link,\n",
    "                \"作者\": author,\n",
    "                \"日期\": date,\n",
    "                \"推文數\": rec_num\n",
    "            }\n",
    "            # 將字典新增到列表當中\n",
    "            article_list.append(article_dict)\n",
    "\n",
    "    #回傳字典列表(List of Dictionary)\n",
    "    return article_list"
   ]
  },
  {
   "cell_type": "code",
   "execution_count": null,
   "metadata": {
    "id": "-B3OuayKAs8Y"
   },
   "outputs": [],
   "source": [
    "ptt_crawler()"
   ]
  },
  {
   "cell_type": "code",
   "execution_count": null,
   "metadata": {
    "id": "tMmrK46h_BVR"
   },
   "outputs": [],
   "source": [
    "data = ptt_crawler()"
   ]
  },
  {
   "cell_type": "markdown",
   "metadata": {},
   "source": [
    "## 如果想要爬其他看版呢？ e.g. 股票、體育、表特、工作、八卦"
   ]
  },
  {
   "cell_type": "code",
   "execution_count": null,
   "metadata": {
    "id": "Oxw5oAE_CzpC"
   },
   "outputs": [],
   "source": [
    "# 定義一個 Function，一個傳入參數：看板名稱\n",
    "def ptt_crawler(board):\n",
    "\n",
    "    # 目標頁面，將網址內的看板名稱改為變數（使用 f-strings）\n",
    "    url = f'https://www.ptt.cc/bbs/{board}/index.html'\n",
    "\n",
    "    # 設定標頭(頭部)資訊\n",
    "    headers = {\n",
    "        \"cookie\": \"over18=1\"    # 在 cookie 中存放資訊：已滿18歲\n",
    "        # \"user-agent\": \"Mozilla/5.0 (Macintosh; Intel Mac OS X 10_15_7) AppleWebKit/537.36 (KHTML, like Gecko) Chrome/92.0.4515.131 Safari/537.36\"\n",
    "    }\n",
    "\n",
    "    # 發送 GET 請求，指定 url 與 headers，將回應結果存在變數\n",
    "    response = requests.get(url, headers = headers)\n",
    "\n",
    "    # 將回應的內容文字放在 BeautifulSoup 進行解析，存在 soup 變數中\n",
    "    soup = BeautifulSoup(response.text, \"html.parser\")\n",
    "\n",
    "    # 存在一個變數\n",
    "    all_article = soup.find_all(\"div\",{\"class\": \"r-ent\"})\n",
    "\n",
    "    # 宣告一個空的文章列表(List)，用來存放文章資料（Dictionary）\n",
    "    article_list = []\n",
    "    for article in all_article:\n",
    "        if article.find(\"div\",{\"class\": \"title\"}).find(\"a\") is not None:\n",
    "            title = article.find(\"div\",{\"class\": \"title\"}).getText().strip('\\n')\n",
    "            # 連結也要改\n",
    "            link = f\"https://www.ptt.cc/bbs/{board}\" + article.find(\"div\",{\"class\": \"title\"}).find(\"a\").get(\"href\")\n",
    "            author = article.find(\"div\",{\"class\": \"author\"}).getText()\n",
    "            date = article.find(\"div\",{\"class\": \"date\"}).getText()\n",
    "            rec_num = article.find(\"div\",{\"class\": \"nrec\"}).getText()\n",
    "\n",
    "            # 宣告字典，欄位名稱(key)自訂，欄位值(value)等於變數\n",
    "            article_dict = {\n",
    "                \"看板\": board,    # 將固定值改為變數\n",
    "                \"標題\": title,\n",
    "                \"連結\": link,\n",
    "                \"作者\": author,\n",
    "                \"日期\": date,\n",
    "                \"推文數\": rec_num\n",
    "            }\n",
    "            # 將字典新增到列表當中\n",
    "            article_list.append(article_dict)\n",
    "\n",
    "    #回傳字典列表(List of Dictionary)\n",
    "    return article_list"
   ]
  },
  {
   "cell_type": "code",
   "execution_count": null,
   "metadata": {
    "id": "jv66sek8B-a7"
   },
   "outputs": [],
   "source": [
    "ptt_crawler('Stock')"
   ]
  }
 ],
 "metadata": {
  "colab": {
   "authorship_tag": "ABX9TyMIuOMBZdP/OL9O5cVIuHNM",
   "name": "Week2-Group0-Enzo(answer).ipynb",
   "provenance": []
  },
  "kernelspec": {
   "display_name": "zendesk",
   "language": "python",
   "name": "python3"
  },
  "language_info": {
   "codemirror_mode": {
    "name": "ipython",
    "version": 3
   },
   "file_extension": ".py",
   "mimetype": "text/x-python",
   "name": "python",
   "nbconvert_exporter": "python",
   "pygments_lexer": "ipython3",
   "version": "3.8.10"
  }
 },
 "nbformat": 4,
 "nbformat_minor": 0
}
